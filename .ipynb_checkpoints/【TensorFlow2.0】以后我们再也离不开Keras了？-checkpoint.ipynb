{
 "cells": [
  {
   "cell_type": "markdown",
   "metadata": {},
   "source": [
    "**内容来源于：**\n",
    "https://mp.weixin.qq.com/s?__biz=MzA3NDIyMjM1NA==&mid=2649033016&idx=1&sn=eb6ce2d5aacede8b2e8237a368a25f8a&chksm=8712b745b0653e53973d622114fca4a61ff0ba61a490b2811af4b4d12c8fa530bcdacfed6039&mpshare=1&scene=23&srcid=#rd"
   ]
  },
  {
   "cell_type": "markdown",
   "metadata": {},
   "source": [
    "TensorFlow2.0 Alpha版已经发布，在2.0中最重要的API或者说到处都出现的API是谁，那无疑是Keras。因此用过2.0的人都会吐槽全世界都是Keras。今天我们就来说说Keras这个高级API。\n",
    "\n",
    "\n",
    "\n",
    " 作者 | 汤兴旺\n",
    "\n",
    " 编辑 | 汤兴旺"
   ]
  },
  {
   "cell_type": "markdown",
   "metadata": {},
   "source": [
    "# Keras 概述\n",
    "在TensorFlow2.0中，Keras是一个用于构建和训练深度学习模型的高阶 API。因此如果你正在使用TensorFow2.0，那么使用Keras构建深度学习模型是您的不二选择。在Keras API中总共有如下三大块：\n",
    "![threeModel](./Image/threeModel.png)"
   ]
  },
  {
   "cell_type": "markdown",
   "metadata": {},
   "source": [
    "- 在Modules中有构建训练模型各种必备的组件，如激活函数activations、损失函数losses、优化器optimizers等；\n",
    "- 在Class中有Sequential和Model两个类，它们用来堆叠模型；\n",
    "- 在Functions中有Input()函数，它用来实例化张量。\n",
    "\n",
    "\n",
    "因此若您使用的深度学习框架是TensorFlow，而且是2.0版本，那么你就不可能不使用tensorflow.keras。这也就是使用过TensorFlow2.0版本的都在吐槽全世界都是Keras的原因。"
   ]
  },
  {
   "cell_type": "markdown",
   "metadata": {},
   "source": [
    "# Modules\n",
    "通过上面的介绍，我们知道在Modules中有activations、losses、optimizers等构建训练模型时各种必备的组件。下图就是Modules中有所的模块。\n",
    "![modules](./Image/modules.png)"
   ]
  },
  {
   "cell_type": "markdown",
   "metadata": {},
   "source": [
    "下面我们详细说说里面最常见的几个模块应该如何使用。\n",
    "\n",
    "\n",
    "\n",
    "##  常用的数据集（datasets）\n",
    "\n",
    "\n",
    "在TensorFlow2.0中，常用的数据集需要使用tf.keras.datasets来加载，在datasets中有如下数据集。\n",
    "![datasets](./Image/datasets.png)\n",
    "\n",
    "对于上图中的数据集我们可以像下面这样加载\n",
    "```\n",
    "(train_images,train_labels),(test_images,test_labels)= keras.datasets.fashion_mnist.load_data()\n",
    "```\n"
   ]
  },
  {
   "cell_type": "markdown",
   "metadata": {},
   "source": [
    "## 神经网络层（Layers）\n",
    "在构建深度学习网络模型时，我们需要定制各种各样的层结构。这时候就要用到layers了，下图是TensorFlow2.0中部分层，它们都是Layer的子类。\n",
    "![layers](./Image/layers.png)\n",
    "\n",
    "那么我们如何使用layer来构建模型呢？方法如下：\n",
    "```\n",
    "from tensorflow.keras import layers\n",
    "\n",
    "layers.Conv2D()\n",
    "\n",
    "layers.MaxPool2D()\n",
    "\n",
    "layers.Flatten()\n",
    "\n",
    "layers.Dense()\n",
    "```"
   ]
  },
  {
   "cell_type": "markdown",
   "metadata": {},
   "source": [
    "##  激活函数（activations）\n",
    "在构建深度学习网络时，我们经常需要选择激活函数来使网络的表达能力更强。下面将介绍TensorFlow2.0中的激活函数及它们应该在TensorFlow2.0中该如何使用。下图是TensorFlow2.0中部分激活函数：\n",
    "![activation](./Image/activations.png)\n",
    "\n",
    "```\n",
    "from tensorflow.keras import layers\n",
    "\n",
    "layers.Conv2D(...,activation='relu')\n",
    "\n",
    "layers.Dense(...,activation='softmax'）\n",
    "```"
   ]
  },
  {
   "cell_type": "markdown",
   "metadata": {},
   "source": [
    "## 优化器（optimizers)\n",
    "通常当我们准备好数据，设计好模型后，我们就需要选择一个合适的优化器（Optimizers）对模型进行优化。下面将介绍TensorFlow2.0中的优化器及他们应该在TensorFlow2.0中该如何使用。下图是TensorFlow2.0中所有的优化器，它们都是Optimizer的子类。\n",
    "![opt](./Image/opt.png)\n",
    "\n",
    "```\n",
    "optimizers = tf.keras.optimizers.Adam()\n",
    "\n",
    "optimizers = tf.keras.optimizers.SGD()\n",
    "\n",
    "...\n",
    "```"
   ]
  },
  {
   "cell_type": "markdown",
   "metadata": {},
   "source": [
    "## 损失函数（Losses）\n",
    "我们知道当我们设计好模型时我们需要优化模型，所谓的优化就是优化网络权值使损失函数值变小，但是损失函数变小是否能代表精度越高呢？那么多的损失函数，我们又该如何选择呢？接下来我们了解下在TensorFlow2.0中如何使用损失函数。下图是TensorFlow2.0中所有的损失函数，它们都是Loss的子类。\n",
    "![loss](./Image/loss.png)\n",
    "\n",
    "```\n",
    "loss = tf.keras.losses.SparseCategoricalCrossentropy()\n",
    "\n",
    "loss = tf.keras.losses.mean_squared_error()\n",
    "```"
   ]
  },
  {
   "cell_type": "markdown",
   "metadata": {},
   "source": [
    "# Class\n",
    "\n",
    "在Class中有Sequential和Model两个类，它们分别是用来堆叠网络层和把堆叠好的层实例化可以训练的模型。\n",
    "![class](./Image/class.png)\n"
   ]
  },
  {
   "cell_type": "markdown",
   "metadata": {},
   "source": [
    "## Model\n",
    "对于实例化Model有下面两种方法\n",
    "- **使用keras.Model API**\n",
    "```\n",
    "import tensorflow as tf\n",
    "inputs = tf.keras.Input(shape=(3,))\n",
    "x=tf.keras.layers.Dense(4,activation=tf.nn.relu(inputs)\n",
    "outputs=tf.keras.layers.Dense(5, activation=tf.nn.softmax)(x)\n",
    "model=tf.keras.Model(inputs=inputs, outputs=outputs)\n",
    "```\n",
    "- **继承Model类**\n",
    "在init中定义层，在call中定义前向传输过程\n",
    "```\n",
    "import tensorflow as tf\n",
    "class MyModel(tf.keras.Model):\n",
    "  def __init__(self):\n",
    "    super(MyModel, self).__init__()\n",
    "    self.dense1 = tf.keras.layers.Dense(4, activation=tf.nn.relu)\n",
    "    self.dense2 = tf.keras.layers.Dense(5, activation=tf.nn.softmax)\n",
    "  def call(self, inputs):\n",
    "    x = self.dense1(inputs)\n",
    "    return self.dense2(x)\n",
    "model = MyModel()\n",
    "```"
   ]
  },
  {
   "cell_type": "markdown",
   "metadata": {},
   "source": [
    "## Sequential\n",
    "在TensorFlow2.0中，我们可以使用Sequential模型。具体方式如下：\n",
    "```\n",
    "model = keras.Sequential()\n",
    "\n",
    "model = model.add(layers.Conv2D(input_shape=(x_train.shape[1], x_train.shape[2],x_train.shape[3]),filters=32,kernel_size=(3,3), strides=(1,1), padding='valid',activation='relu'))\n",
    "\n",
    "model.add(layers.MaxPool2D(pool_size=(2,2)))\n",
    "\n",
    "model.add(layers.Flatten())model.add(layers.Dense(32,activation='relu'))\n",
    "\n",
    "model.add(layers.Dense(10, activation='softmax'))\n",
    "\n",
    "model.compile(optimizer=keras.optimizers.Adam(),loss=keras.losses.SparseCategoricalCrossentropy(),metrics=['accuracy'])\n",
    "```"
   ]
  },
  {
   "cell_type": "markdown",
   "metadata": {},
   "source": [
    "#  Functions\n",
    "\n",
    "在Functions中，有一个Input函数，其用来实例化Keras张量。对于Input函数，它有如下参数\n",
    "```\n",
    "tf.keras.Input(\n",
    "    shape=None,\n",
    "    batch_size=None,\n",
    "    name=None,\n",
    "    dtype=None,\n",
    "    sparse=False,\n",
    "    tensor=None,\n",
    "    **kwargs\n",
    ")\n",
    "```\n",
    "具体使用方法如下：\n",
    "```\n",
    "x = Input(shape=(32,))\n",
    "y = Dense(16, activation='softmax')(x)\n",
    "model = Model(x, y)\n",
    "```"
   ]
  }
 ],
 "metadata": {
  "kernelspec": {
   "display_name": "Python 3",
   "language": "python",
   "name": "python3"
  },
  "language_info": {
   "codemirror_mode": {
    "name": "ipython",
    "version": 3
   },
   "file_extension": ".py",
   "mimetype": "text/x-python",
   "name": "python",
   "nbconvert_exporter": "python",
   "pygments_lexer": "ipython3",
   "version": "3.6.5"
  },
  "toc": {
   "base_numbering": 1,
   "nav_menu": {},
   "number_sections": true,
   "sideBar": true,
   "skip_h1_title": false,
   "title_cell": "Table of Contents",
   "title_sidebar": "Contents",
   "toc_cell": false,
   "toc_position": {},
   "toc_section_display": true,
   "toc_window_display": false
  }
 },
 "nbformat": 4,
 "nbformat_minor": 2
}
