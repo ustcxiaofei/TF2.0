{
 "cells": [
  {
   "cell_type": "markdown",
   "metadata": {},
   "source": [
    "**内容整理自 有三AI公众号**\n",
    "\n",
    "【TensorFlow2.0】TensorFlow2.0专栏上线，你来吗？"
   ]
  },
  {
   "cell_type": "markdown",
   "metadata": {},
   "source": [
    "# tf2.0有什么不同\n",
    "![diff](./Image/diff.jpg)\n",
    "在TensorFlow 2.0中，核心功能是动态图机制Eager execution，且作为默认模式。它允许用户像正常程序一样去编写、调试模型，使TensorFlow更易于学习和应用。也就是说我们不必再构建以后再运行的计算图，而是马上就会返回具体的值。对于这个你可以用2.0版本和1.X版本做个下面的对比小实验。\n",
    "\n",
    "```\n",
    "#TensorFlow2.0                           \n",
    "import tensorflow as tf                  \n",
    "a = tf.constant([[1, 2],[3, 4]])       \n",
    "print(a)        \n",
    "```\n",
    "```\n",
    "#TensorFlow1.X\n",
    "import tensorflow as tf\n",
    "a = tf.constant([[1, 2], [3, 4]])\n",
    "sess = tf.Session()\n",
    "result = sess.run(a）\n",
    "print(result)\n",
    "```"
   ]
  },
  {
   "cell_type": "markdown",
   "metadata": {},
   "source": [
    "# tf2.0训练流程\n",
    "![workflow](./Image/workflow.jpg)"
   ]
  },
  {
   "cell_type": "markdown",
   "metadata": {},
   "source": [
    "# tf2.0专栏计划\n",
    "![plan](./Image/plan.jpg)"
   ]
  }
 ],
 "metadata": {
  "kernelspec": {
   "display_name": "Python 3",
   "language": "python",
   "name": "python3"
  },
  "language_info": {
   "codemirror_mode": {
    "name": "ipython",
    "version": 3
   },
   "file_extension": ".py",
   "mimetype": "text/x-python",
   "name": "python",
   "nbconvert_exporter": "python",
   "pygments_lexer": "ipython3",
   "version": "3.6.5"
  },
  "toc": {
   "base_numbering": 1,
   "nav_menu": {},
   "number_sections": true,
   "sideBar": true,
   "skip_h1_title": false,
   "title_cell": "Table of Contents",
   "title_sidebar": "Contents",
   "toc_cell": false,
   "toc_position": {},
   "toc_section_display": true,
   "toc_window_display": false
  }
 },
 "nbformat": 4,
 "nbformat_minor": 2
}
